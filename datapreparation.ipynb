{
 "cells": [
  {
   "cell_type": "markdown",
   "metadata": {},
   "source": [
    "KELOMPOK 6 :\n",
    "1. Husnun Fadhilah\n",
    "2. Andi Maritza Syahrani Ibrahim\n",
    "3. M. Fahrul Arya Wardana\n",
    "4. Muhammad Rafli Syahban"
   ]
  },
  {
   "cell_type": "code",
   "execution_count": 19,
   "metadata": {},
   "outputs": [],
   "source": [
    "# Import library yang diperlukan\n",
    "import pandas as pd\n",
    "import matplotlib.pyplot as plt\n",
    "import seaborn as sns\n",
    "\n",
    "# Mengatur tampilan visual\n",
    "sns.set(style=\"whitegrid\")\n",
    "\n",
    "# Membaca data dari file CSV dengan encoding yang ditentukan\n",
    "data = pd.read_csv(\"Data Cuaca Sulteng.csv\", encoding='ISO-8859-1', sep=';', decimal=',', parse_dates=['Tanggal'])\n"
   ]
  },
  {
   "cell_type": "code",
   "execution_count": 20,
   "metadata": {},
   "outputs": [
    {
     "name": "stdout",
     "output_type": "stream",
     "text": [
      "Informasi Data:\n",
      "<class 'pandas.core.frame.DataFrame'>\n",
      "RangeIndex: 699 entries, 0 to 698\n",
      "Data columns (total 8 columns):\n",
      " #   Column                            Non-Null Count  Dtype  \n",
      "---  ------                            --------------  -----  \n",
      " 0   Tanggal                           699 non-null    object \n",
      " 1   Temperatur minimum (°C)           693 non-null    float64\n",
      " 2   Temperatur maximum(°C)            690 non-null    float64\n",
      " 3   temperatur rata-rata(°C)          688 non-null    float64\n",
      " 4   kelembapan rata-rata(%)           688 non-null    float64\n",
      " 5   curah hujan(mm)                   691 non-null    float64\n",
      " 6   lamanya penyinaran matahari(jam)  694 non-null    float64\n",
      " 7   kecepatan angin rata-rata(m/s)    695 non-null    float64\n",
      "dtypes: float64(7), object(1)\n",
      "memory usage: 43.8+ KB\n",
      "None\n"
     ]
    }
   ],
   "source": [
    "# Menampilkan informasi umum tentang data\n",
    "print(\"Informasi Data:\")\n",
    "print(data.info())"
   ]
  },
  {
   "cell_type": "code",
   "execution_count": 21,
   "metadata": {},
   "outputs": [
    {
     "name": "stdout",
     "output_type": "stream",
     "text": [
      "\n",
      "Beberapa Baris Pertama:\n",
      "      Tanggal  Temperatur minimum (°C)  Temperatur maximum(°C)  \\\n",
      "0  01-01-2022                     24.0                    32.2   \n",
      "1  02-01-2022                     24.0                    31.2   \n",
      "2  03-01-2022                     22.4                    32.0   \n",
      "3  04-01-2022                     24.0                    29.8   \n",
      "4  05-01-2022                     23.4                    32.2   \n",
      "\n",
      "   temperatur rata-rata(°C)  kelembapan rata-rata(%)  curah hujan(mm)  \\\n",
      "0                      27.0                     84.0              1.0   \n",
      "1                      25.8                     91.0              8.1   \n",
      "2                      26.3                     86.0             29.3   \n",
      "3                      26.7                     87.0              0.5   \n",
      "4                      26.9                     85.0             22.3   \n",
      "\n",
      "   lamanya penyinaran matahari(jam)  kecepatan angin rata-rata(m/s)  \n",
      "0                               3.5                             1.0  \n",
      "1                               2.5                             1.0  \n",
      "2                               2.0                             1.0  \n",
      "3                               5.5                             0.0  \n",
      "4                               0.0                             0.0  \n"
     ]
    }
   ],
   "source": [
    "# Menampilkan beberapa baris pertama dari dataset\n",
    "print(\"\\nBeberapa Baris Pertama:\")\n",
    "print(data.head())"
   ]
  },
  {
   "cell_type": "code",
   "execution_count": null,
   "metadata": {},
   "outputs": [],
   "source": [
    "# Mengganti nama kolom untuk kemudahan\n",
    "data.columns = ['Tanggal', 'Temp_Min', 'Temp_Max', 'Temp_Rata', 'Kelembapan', 'Curah_Hujan', 'Penyinaran', 'Kecepatan_Angin']\n"
   ]
  },
  {
   "cell_type": "code",
   "execution_count": 23,
   "metadata": {},
   "outputs": [],
   "source": [
    "# Mengubah tipe data jika diperlukan\n",
    "data['Temperatur minimum (°C)'] = pd.to_numeric(data['Temperatur minimum (°C)'], errors='coerce')\n",
    "data['Temperatur maximum(°C)'] = pd.to_numeric(data['Temperatur maximum(°C)'], errors='coerce')\n",
    "data['temperatur rata-rata(°C)'] = pd.to_numeric(data['temperatur rata-rata(°C)'], errors='coerce')\n",
    "data['kelembapan rata-rata(%)'] = pd.to_numeric(data['kelembapan rata-rata(%)'], errors='coerce')\n",
    "data['curah hujan(mm)'] = pd.to_numeric(data['curah hujan(mm)'], errors='coerce')\n",
    "data['lamanya penyinaran matahari(jam)'] = pd.to_numeric(data['lamanya penyinaran matahari(jam)'], errors='coerce')\n",
    "data['kecepatan angin rata-rata(m/s)'] = pd.to_numeric(data['kecepatan angin rata-rata(m/s)'], errors='coerce')"
   ]
  },
  {
   "cell_type": "code",
   "execution_count": 24,
   "metadata": {},
   "outputs": [],
   "source": [
    "# Menghapus baris dengan nilai yang hilang\n",
    "data.dropna(inplace=True)"
   ]
  },
  {
   "cell_type": "code",
   "execution_count": 25,
   "metadata": {},
   "outputs": [
    {
     "name": "stdout",
     "output_type": "stream",
     "text": [
      "\n",
      "Statistik Deskriptif:\n",
      "       Temperatur minimum (°C)  Temperatur maximum(°C)  \\\n",
      "count               675.000000              675.000000   \n",
      "mean                 38.282667               46.935259   \n",
      "std                 383.959352              383.627756   \n",
      "min                  18.200000               23.900000   \n",
      "25%                  23.150000               31.200000   \n",
      "50%                  23.800000               32.200000   \n",
      "75%                  24.400000               33.200000   \n",
      "max                9999.000000             9999.000000   \n",
      "\n",
      "       temperatur rata-rata(°C)  kelembapan rata-rata(%)  curah hujan(mm)  \\\n",
      "count                675.000000               675.000000       675.000000   \n",
      "mean                  27.127259                83.997037      1045.804296   \n",
      "std                    1.395382                 6.565352      2857.288897   \n",
      "min                   23.700000                57.000000         0.000000   \n",
      "25%                   26.300000                81.000000         0.000000   \n",
      "50%                   27.000000                85.000000         1.500000   \n",
      "75%                   27.800000                88.000000        12.800000   \n",
      "max                   32.800000                99.000000      8888.000000   \n",
      "\n",
      "       lamanya penyinaran matahari(jam)  kecepatan angin rata-rata(m/s)  \n",
      "count                        675.000000                      675.000000  \n",
      "mean                          34.105037                        0.942222  \n",
      "std                          543.635161                        0.706841  \n",
      "min                            0.000000                        0.000000  \n",
      "25%                            2.300000                        1.000000  \n",
      "50%                            4.400000                        1.000000  \n",
      "75%                            6.700000                        1.000000  \n",
      "max                         9999.000000                        5.000000  \n"
     ]
    }
   ],
   "source": [
    "# Menampilkan statistik deskriptif\n",
    "print(\"\\nStatistik Deskriptif:\")\n",
    "print(data.describe())"
   ]
  },
  {
   "cell_type": "code",
   "execution_count": 28,
   "metadata": {},
   "outputs": [
    {
     "name": "stdout",
     "output_type": "stream",
     "text": [
      "\n",
      "Data yang sudah dipersiapkan disimpan di: Data_Cuaca_Sulteng_Prepared.csv\n"
     ]
    }
   ],
   "source": [
    "# Menyimpan hasil persiapan data ke file CSV\n",
    "output_file = \"Data_Cuaca_Sulteng_Prepared.csv\"\n",
    "data.to_csv(output_file, index=False, sep=';', decimal=',')\n",
    "print(f\"\\nData yang sudah dipersiapkan disimpan di: {output_file}\")"
   ]
  }
 ],
 "metadata": {
  "kernelspec": {
   "display_name": "Python 3",
   "language": "python",
   "name": "python3"
  },
  "language_info": {
   "codemirror_mode": {
    "name": "ipython",
    "version": 3
   },
   "file_extension": ".py",
   "mimetype": "text/x-python",
   "name": "python",
   "nbconvert_exporter": "python",
   "pygments_lexer": "ipython3",
   "version": "3.12.3"
  }
 },
 "nbformat": 4,
 "nbformat_minor": 2
}
